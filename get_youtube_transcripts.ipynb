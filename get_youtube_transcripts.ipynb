{
 "cells": [
  {
   "cell_type": "code",
   "id": "initial_id",
   "metadata": {
    "collapsed": true,
    "ExecuteTime": {
     "end_time": "2025-02-10T23:29:18.558378Z",
     "start_time": "2025-02-10T23:29:18.545833Z"
    }
   },
   "source": [
    "from youtube_transcript_api import YouTubeTranscriptApi\n",
    "import pandas as pd\n",
    "import re\n",
    "from urllib.parse import parse_qs, urlparse\n",
    "import requests\n",
    "import os\n",
    "from dotenv import load_dotenv\n",
    "\n",
    "load_dotenv()"
   ],
   "outputs": [
    {
     "data": {
      "text/plain": [
       "True"
      ]
     },
     "execution_count": 11,
     "metadata": {},
     "output_type": "execute_result"
    }
   ],
   "execution_count": 11
  },
  {
   "metadata": {},
   "cell_type": "code",
   "outputs": [],
   "execution_count": null,
   "source": "",
   "id": "381e5f9158841d89"
  },
  {
   "metadata": {
    "ExecuteTime": {
     "end_time": "2025-02-10T23:29:36.850384Z",
     "start_time": "2025-02-10T23:29:36.841863Z"
    }
   },
   "cell_type": "code",
   "source": [
    "def get_playlist_video_ids(playlist_url):\n",
    "    \"\"\"Extract all video IDs from a YouTube playlist\"\"\"\n",
    "    # Extract playlist ID\n",
    "    parsed_url = urlparse(playlist_url)\n",
    "    query_params = parse_qs(parsed_url.query)\n",
    "    playlist_id = query_params.get('list', [None])[0]\n",
    "    \n",
    "    if not playlist_id:\n",
    "        raise ValueError(\"Invalid playlist URL\")\n",
    "    \n",
    "    # Get API key from environment variable\n",
    "    API_KEY = os.getenv('YOUTUBE_API_KEY')\n",
    "    if not API_KEY:\n",
    "        raise ValueError(\"YOUTUBE_API_KEY environment variable not found\")\n",
    "    \n",
    "    video_ids = []\n",
    "    next_page_token = None\n",
    "    \n",
    "    while True:\n",
    "        url = f\"https://www.googleapis.com/youtube/v3/playlistItems\"\n",
    "        params = {\n",
    "            'part': 'contentDetails',\n",
    "            'playlistId': playlist_id,\n",
    "            'maxResults': 50,\n",
    "            'key': API_KEY\n",
    "        }\n",
    "        \n",
    "        if next_page_token:\n",
    "            params['pageToken'] = next_page_token\n",
    "        \n",
    "        try:\n",
    "            response = requests.get(url, params=params).json()\n",
    "            \n",
    "            if 'error' in response:\n",
    "                raise ValueError(f\"YouTube API error: {response['error']['message']}\")\n",
    "                \n",
    "            # Extract video IDs\n",
    "            for item in response.get('items', []):\n",
    "                video_ids.append(item['contentDetails']['videoId'])\n",
    "            \n",
    "            # Check if there are more pages\n",
    "            next_page_token = response.get('nextPageToken')\n",
    "            if not next_page_token:\n",
    "                break\n",
    "                \n",
    "        except Exception as e:\n",
    "            print(f\"Error fetching playlist data: {e}\")\n",
    "            break\n",
    "    \n",
    "    return video_ids"
   ],
   "id": "1a256ba53070fb33",
   "outputs": [],
   "execution_count": 12
  },
  {
   "metadata": {
    "ExecuteTime": {
     "end_time": "2025-02-10T23:29:38.008748Z",
     "start_time": "2025-02-10T23:29:38.003725Z"
    }
   },
   "cell_type": "code",
   "source": [
    "def get_video_id(url):\n",
    "    \"\"\"Extract video ID from YouTube URL\"\"\"\n",
    "    video_id = url.split('v=')[-1]\n",
    "    ampersand_pos = video_id.find('&')\n",
    "    if ampersand_pos != -1:\n",
    "        video_id = video_id[:ampersand_pos]\n",
    "    return video_id\n",
    "\n",
    "\n",
    "def get_transcript_chunks(url, max_chars=100):\n",
    "    \"\"\"Get transcript and break it into chunks\"\"\"\n",
    "    video_id = get_video_id(url)\n",
    "\n",
    "    try:\n",
    "        transcript = YouTubeTranscriptApi.get_transcript(video_id)\n",
    "    except Exception as e:\n",
    "        print(f\"Error getting transcript: {e}\")\n",
    "        return None\n",
    "\n",
    "    # Combine transcript text\n",
    "    full_text = ' '.join(item['text'] for item in transcript)\n",
    "\n",
    "    # Split into sentences\n",
    "    sentences = re.split('[.!?]+', full_text)\n",
    "    sentences = [s.strip() for s in sentences if s.strip()]\n",
    "\n",
    "    # Create chunks of sentences\n",
    "    chunks = []\n",
    "    current_chunk = sentences[0]\n",
    "\n",
    "    for sentence in sentences[1:]:\n",
    "        if len(current_chunk + '. ' + sentence) <= max_chars:\n",
    "            current_chunk += '. ' + sentence\n",
    "        else:\n",
    "            chunks.append(current_chunk)\n",
    "            current_chunk = sentence\n",
    "\n",
    "    chunks.append(current_chunk)  # Add the last chunk\n",
    "\n",
    "    # Create DataFrame\n",
    "    df = pd.DataFrame({\n",
    "        'person': ['Bob Ross'] * len(chunks),\n",
    "        'text': chunks\n",
    "    })\n",
    "\n",
    "    return df"
   ],
   "id": "c68319ba0d2f62e",
   "outputs": [],
   "execution_count": 13
  },
  {
   "metadata": {
    "ExecuteTime": {
     "end_time": "2025-02-10T23:17:09.014493Z",
     "start_time": "2025-02-10T23:17:08.464659Z"
    }
   },
   "cell_type": "code",
   "source": [
    "url = \"https://www.youtube.com/watch?v=DFSIQNjKRfk&list=PLAEQD0ULngi69x_7JbQvSMprLRK_KSVLu&index=5&ab_channel=BobRoss\"\n",
    "df = get_transcript_chunks(url)\n",
    "if df is not None:\n",
    "    print(df)"
   ],
   "id": "a1589a4d9db6c6ec",
   "outputs": [
    {
     "name": "stdout",
     "output_type": "stream",
     "text": [
      "       person                                               text\n",
      "0    Bob Ross  - Well welcome back, glad\\nto see you again today\n",
      "1    Bob Ross  I thought today we'd do\\nsomething a little di...\n",
      "2    Bob Ross  And to that I'm gonna add\\na little Prussian B...\n",
      "3    Bob Ross  And we just start at\\nthe bottom and work up s...\n",
      "4    Bob Ross                                        There we go\n",
      "..        ...                                                ...\n",
      "198  Bob Ross  Fantastic painting. Okay. We'll just sign this...\n",
      "199  Bob Ross              And we'll call that painting finished\n",
      "200  Bob Ross  Once again, I hope you've\\npainted along with ...\n",
      "201  Bob Ross  And we hope to see you again next time, and we...\n",
      "202  Bob Ross  Until then, from all of\\nus here, happy painti...\n",
      "\n",
      "[203 rows x 2 columns]\n"
     ]
    }
   ],
   "execution_count": 3
  },
  {
   "metadata": {
    "ExecuteTime": {
     "end_time": "2025-02-10T23:18:44.045388Z",
     "start_time": "2025-02-10T23:18:44.039895Z"
    }
   },
   "cell_type": "code",
   "source": [
    "def clean_text(text):\n",
    "    \"\"\"\n",
    "    Clean text by removing newlines, extra spaces, and special characters\n",
    "    Args:\n",
    "        text (str): Input text to clean\n",
    "    Returns:\n",
    "        str: Cleaned text\n",
    "    \"\"\"\n",
    "    # Remove newlines\n",
    "    text = text.replace('\\n', ' ')\n",
    "    \n",
    "    # Remove extra spaces\n",
    "    text = ' '.join(text.split())\n",
    "    \n",
    "    # Remove special characters but keep basic punctuation\n",
    "    text = re.sub(r'[^\\w\\s.,!?-]', '', text)\n",
    "    \n",
    "    # Remove multiple periods/ellipsis\n",
    "    text = re.sub(r'\\.{2,}', '.', text)\n",
    "    \n",
    "    # Remove extra spaces around punctuation\n",
    "    text = re.sub(r'\\s+([.,!?])', r'\\1', text)\n",
    "    \n",
    "    return text.strip()"
   ],
   "id": "11887c9bd1272852",
   "outputs": [],
   "execution_count": 4
  },
  {
   "metadata": {
    "ExecuteTime": {
     "end_time": "2025-02-10T23:18:46.795453Z",
     "start_time": "2025-02-10T23:18:46.788570Z"
    }
   },
   "cell_type": "code",
   "source": [
    "# Apply the cleaning function to the 'text' column\n",
    "df['text'] = df['text'].apply(clean_text)\n",
    "\n",
    "# Display the first few rows to verify the cleaning\n",
    "print(df.head())"
   ],
   "id": "24e69be91cb27aff",
   "outputs": [
    {
     "name": "stdout",
     "output_type": "stream",
     "text": [
      "     person                                               text\n",
      "0  Bob Ross   - Well welcome back, glad to see you again today\n",
      "1  Bob Ross  I thought today wed do something a little diff...\n",
      "2  Bob Ross  And to that Im gonna add a little Prussian Blu...\n",
      "3  Bob Ross  And we just start at the bottom and work up so...\n",
      "4  Bob Ross                                        There we go\n"
     ]
    }
   ],
   "execution_count": 5
  },
  {
   "metadata": {
    "ExecuteTime": {
     "end_time": "2025-02-10T23:20:29.732804Z",
     "start_time": "2025-02-10T23:20:29.727565Z"
    }
   },
   "cell_type": "code",
   "source": "df.iloc[5]['text']",
   "id": "b29f66e03acdf033",
   "outputs": [
    {
     "data": {
      "text/plain": [
       "'I thought today wed make a happy little stream, its just sort of running through the woods here'"
      ]
     },
     "execution_count": 10,
     "metadata": {},
     "output_type": "execute_result"
    }
   ],
   "execution_count": 10
  },
  {
   "metadata": {
    "ExecuteTime": {
     "end_time": "2025-02-10T23:19:27.908760Z",
     "start_time": "2025-02-10T23:19:27.906253Z"
    }
   },
   "cell_type": "code",
   "source": "",
   "id": "dd934a7ce87c41bc",
   "outputs": [],
   "execution_count": null
  },
  {
   "metadata": {},
   "cell_type": "code",
   "outputs": [],
   "execution_count": null,
   "source": "",
   "id": "7e80f746157d267f"
  }
 ],
 "metadata": {
  "kernelspec": {
   "display_name": "Python 3",
   "language": "python",
   "name": "python3"
  },
  "language_info": {
   "codemirror_mode": {
    "name": "ipython",
    "version": 2
   },
   "file_extension": ".py",
   "mimetype": "text/x-python",
   "name": "python",
   "nbconvert_exporter": "python",
   "pygments_lexer": "ipython2",
   "version": "2.7.6"
  }
 },
 "nbformat": 4,
 "nbformat_minor": 5
}
